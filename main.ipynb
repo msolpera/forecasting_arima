{
 "cells": [
  {
   "cell_type": "code",
   "execution_count": 65,
   "id": "dad807e6",
   "metadata": {},
   "outputs": [],
   "source": [
    "import pandas as pd\n",
    "from statsmodels.tsa.statespace.sarimax import SARIMAX\n",
    "import statsmodels.api as sm\n",
    "import sys\n",
    "sys.path.insert(0, './utils/')\n",
    "import functions\n",
    "import importlib\n",
    "importlib.reload(functions)\n",
    "import numpy as np\n",
    "import warnings\n",
    "import pickle"
   ]
  },
  {
   "cell_type": "code",
   "execution_count": 45,
   "id": "701e77fd",
   "metadata": {},
   "outputs": [],
   "source": [
    "data = pd.read_csv('./data/monthly_sales.csv',index_col=0)\n",
    "data.index = pd.to_datetime(data.index)\n",
    "data = data.asfreq('ME')"
   ]
  },
  {
   "cell_type": "code",
   "execution_count": 47,
   "id": "6a781bb1",
   "metadata": {},
   "outputs": [
    {
     "data": {
      "text/html": [
       "<div>\n",
       "<style scoped>\n",
       "    .dataframe tbody tr th:only-of-type {\n",
       "        vertical-align: middle;\n",
       "    }\n",
       "\n",
       "    .dataframe tbody tr th {\n",
       "        vertical-align: top;\n",
       "    }\n",
       "\n",
       "    .dataframe thead th {\n",
       "        text-align: right;\n",
       "    }\n",
       "</style>\n",
       "<table border=\"1\" class=\"dataframe\">\n",
       "  <thead>\n",
       "    <tr style=\"text-align: right;\">\n",
       "      <th></th>\n",
       "      <th>Furniture</th>\n",
       "      <th>Office Supplies</th>\n",
       "      <th>Technology</th>\n",
       "      <th>Furniture_log</th>\n",
       "      <th>Office Supplies_log</th>\n",
       "      <th>Technology_log</th>\n",
       "    </tr>\n",
       "  </thead>\n",
       "  <tbody>\n",
       "    <tr>\n",
       "      <th>2011-01-31</th>\n",
       "      <td>5951.859</td>\n",
       "      <td>4851.080</td>\n",
       "      <td>3143.290</td>\n",
       "      <td>8.691627</td>\n",
       "      <td>8.487163</td>\n",
       "      <td>8.053343</td>\n",
       "    </tr>\n",
       "    <tr>\n",
       "      <th>2011-02-28</th>\n",
       "      <td>2130.324</td>\n",
       "      <td>1071.724</td>\n",
       "      <td>1608.510</td>\n",
       "      <td>7.664499</td>\n",
       "      <td>6.977956</td>\n",
       "      <td>7.383685</td>\n",
       "    </tr>\n",
       "    <tr>\n",
       "      <th>2011-03-31</th>\n",
       "      <td>14573.956</td>\n",
       "      <td>8605.879</td>\n",
       "      <td>32511.174</td>\n",
       "      <td>9.587060</td>\n",
       "      <td>9.060317</td>\n",
       "      <td>10.389370</td>\n",
       "    </tr>\n",
       "    <tr>\n",
       "      <th>2011-04-30</th>\n",
       "      <td>7944.837</td>\n",
       "      <td>11155.074</td>\n",
       "      <td>9195.434</td>\n",
       "      <td>8.980403</td>\n",
       "      <td>9.319739</td>\n",
       "      <td>9.126571</td>\n",
       "    </tr>\n",
       "    <tr>\n",
       "      <th>2011-05-31</th>\n",
       "      <td>6912.787</td>\n",
       "      <td>7135.624</td>\n",
       "      <td>9599.876</td>\n",
       "      <td>8.841273</td>\n",
       "      <td>8.872995</td>\n",
       "      <td>9.169610</td>\n",
       "    </tr>\n",
       "  </tbody>\n",
       "</table>\n",
       "</div>"
      ],
      "text/plain": [
       "            Furniture  Office Supplies  Technology  Furniture_log  \\\n",
       "2011-01-31   5951.859         4851.080    3143.290       8.691627   \n",
       "2011-02-28   2130.324         1071.724    1608.510       7.664499   \n",
       "2011-03-31  14573.956         8605.879   32511.174       9.587060   \n",
       "2011-04-30   7944.837        11155.074    9195.434       8.980403   \n",
       "2011-05-31   6912.787         7135.624    9599.876       8.841273   \n",
       "\n",
       "            Office Supplies_log  Technology_log  \n",
       "2011-01-31             8.487163        8.053343  \n",
       "2011-02-28             6.977956        7.383685  \n",
       "2011-03-31             9.060317       10.389370  \n",
       "2011-04-30             9.319739        9.126571  \n",
       "2011-05-31             8.872995        9.169610  "
      ]
     },
     "execution_count": 47,
     "metadata": {},
     "output_type": "execute_result"
    }
   ],
   "source": [
    "data.head()"
   ]
  },
  {
   "cell_type": "code",
   "execution_count": 69,
   "id": "18fd1bc3",
   "metadata": {},
   "outputs": [],
   "source": [
    "sales_furniture = data['Furniture']\n",
    "sales_office = data['Office Supplies']\n",
    "sales_technology = data['Technology']"
   ]
  },
  {
   "cell_type": "markdown",
   "id": "d3acf485",
   "metadata": {},
   "source": [
    "## Models"
   ]
  },
  {
   "cell_type": "markdown",
   "id": "97e07eff",
   "metadata": {},
   "source": [
    "Para cada categoría [Furniture,\tOffice Supplies, Technology] voy a estimar una serie temporal distinta. Es decir, pronosticaré ventas futuras por cada categoría. \n",
    "\n",
    "El primer modelo es un modelo SARIMA con las siguientes caracteristicas basadas en los estudios realizados en el notebook 'modeling_arima' (Grid Search + CV):\n",
    "\n",
    "- Furniture: SARIMA (0, 1, 1), (1, 0, 1, 12)\n",
    "- Office Supplies:  SARIMA  (1, 1, 1), (1, 0, 1, 12)\n",
    "- Technology: SARIMA (1, 1, 1), (1, 0, 0, 12)"
   ]
  },
  {
   "cell_type": "code",
   "execution_count": 66,
   "id": "61371d15",
   "metadata": {},
   "outputs": [],
   "source": [
    "\n",
    "class SARIMAForecaster:\n",
    "    def __init__(self, order, seasonal_order, log_transform=True):\n",
    "        self.order = order\n",
    "        self.seasonal_order = seasonal_order\n",
    "        self.log_transform = log_transform\n",
    "        self.model_fit = None\n",
    "        self.original_series = None\n",
    "\n",
    "    def fit(self, series):\n",
    "        self.original_series = series\n",
    "        if self.log_transform:\n",
    "            series = np.log(series)\n",
    "        self.model_fit = SARIMAX(series, order=self.order, seasonal_order=self.seasonal_order).fit()\n",
    "        return self\n",
    "\n",
    "    def forecast(self, steps=6, bias_correction=False):\n",
    "        forecast_log = self.model_fit.forecast(steps=steps)\n",
    "        if self.log_transform:\n",
    "            if bias_correction:\n",
    "                resid_var = self.model_fit.resid.var()\n",
    "                return np.exp(forecast_log + 0.5 * resid_var)\n",
    "            return np.exp(forecast_log)\n",
    "        return forecast_log\n",
    "\n",
    "    def save(self, path):\n",
    "        with open(path, 'wb') as f:\n",
    "            pickle.dump(self, f)\n",
    "\n",
    "    @staticmethod\n",
    "    def load(path):\n",
    "        with open(path, 'rb') as f:\n",
    "            return pickle.load(f)"
   ]
  },
  {
   "cell_type": "code",
   "execution_count": 70,
   "id": "982e63b8",
   "metadata": {},
   "outputs": [],
   "source": [
    "# Create models for each category\n",
    "furn_model = SARIMAForecaster(order=(0,1,1), seasonal_order=(1,0,1,12)).fit(sales_furniture)\n",
    "tech_model = SARIMAForecaster(order=(1,1,1), seasonal_order=(1,0,0,12)).fit(sales_technology)\n",
    "office_model = SARIMAForecaster(order=(1,1,1), seasonal_order=(1,0,1,12)).fit(sales_office)\n",
    "\n",
    "# Save models\n",
    "furn_model.save('model_furniture.pkl')\n",
    "tech_model.save('model_technology.pkl')\n",
    "office_model.save('model_office.pkl')\n",
    "\n",
    "# Predict:\n",
    "loaded = SARIMAForecaster.load('model_furniture.pkl')\n",
    "forecast = loaded.forecast(steps=6)"
   ]
  },
  {
   "cell_type": "code",
   "execution_count": null,
   "id": "dfe68560",
   "metadata": {},
   "outputs": [],
   "source": []
  }
 ],
 "metadata": {
  "language_info": {
   "name": "python"
  }
 },
 "nbformat": 4,
 "nbformat_minor": 5
}
